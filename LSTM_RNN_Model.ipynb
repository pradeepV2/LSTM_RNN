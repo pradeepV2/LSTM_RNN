{
  "nbformat": 4,
  "nbformat_minor": 0,
  "metadata": {
    "colab": {
      "name": "LSTM_RNN_Model.ipynb",
      "provenance": []
    },
    "kernelspec": {
      "name": "python3",
      "display_name": "Python 3"
    }
  },
  "cells": [
    {
      "cell_type": "code",
      "metadata": {
        "id": "c5S6-oHPddHJ",
        "colab_type": "code",
        "colab": {
          "base_uri": "https://localhost:8080/",
          "height": 80
        },
        "outputId": "f5c6c770-471f-41a4-a235-386cee1239a6"
      },
      "source": [
        "# Import the required libraries for building the Model\n",
        "import pandas as pd\n",
        "import numpy as np\n",
        "\n",
        "from sklearn.model_selection import train_test_split\n",
        "from keras.preprocessing import sequence\n",
        "from keras.models import Sequential\n",
        "from keras.layers import Dense, Dropout, Embedding, LSTM, Bidirectional\n"
      ],
      "execution_count": 1,
      "outputs": [
        {
          "output_type": "stream",
          "text": [
            "Using TensorFlow backend.\n"
          ],
          "name": "stderr"
        },
        {
          "output_type": "display_data",
          "data": {
            "text/html": [
              "<p style=\"color: red;\">\n",
              "The default version of TensorFlow in Colab will soon switch to TensorFlow 2.x.<br>\n",
              "We recommend you <a href=\"https://www.tensorflow.org/guide/migrate\" target=\"_blank\">upgrade</a> now \n",
              "or ensure your notebook will continue to use TensorFlow 1.x via the <code>%tensorflow_version 1.x</code> magic:\n",
              "<a href=\"https://colab.research.google.com/notebooks/tensorflow_version.ipynb\" target=\"_blank\">more info</a>.</p>\n"
            ],
            "text/plain": [
              "<IPython.core.display.HTML object>"
            ]
          },
          "metadata": {
            "tags": []
          }
        }
      ]
    },
    {
      "cell_type": "code",
      "metadata": {
        "id": "ZljlJ5EKdzVY",
        "colab_type": "code",
        "colab": {
          "base_uri": "https://localhost:8080/",
          "height": 439
        },
        "outputId": "1666d272-2175-4d29-f962-ddeadbcaf4a3"
      },
      "source": [
        "# Reading the source file using pandas \n",
        "df = pd.read_excel(\"tide_file.xlsx\")\n",
        "df"
      ],
      "execution_count": 2,
      "outputs": [
        {
          "output_type": "execute_result",
          "data": {
            "text/html": [
              "<div>\n",
              "<style scoped>\n",
              "    .dataframe tbody tr th:only-of-type {\n",
              "        vertical-align: middle;\n",
              "    }\n",
              "\n",
              "    .dataframe tbody tr th {\n",
              "        vertical-align: top;\n",
              "    }\n",
              "\n",
              "    .dataframe thead th {\n",
              "        text-align: right;\n",
              "    }\n",
              "</style>\n",
              "<table border=\"1\" class=\"dataframe\">\n",
              "  <thead>\n",
              "    <tr style=\"text-align: right;\">\n",
              "      <th></th>\n",
              "      <th>receipt_id</th>\n",
              "      <th>company_id</th>\n",
              "      <th>matched_transaction_id</th>\n",
              "      <th>feature_transaction_id</th>\n",
              "      <th>DateMappingMatch</th>\n",
              "      <th>AmountMappingMatch</th>\n",
              "      <th>DescriptionMatch</th>\n",
              "      <th>DifferentPredictedTime</th>\n",
              "      <th>TimeMappingMatch</th>\n",
              "      <th>PredictedNameMatch</th>\n",
              "      <th>ShortNameMatch</th>\n",
              "      <th>DifferentPredictedDate</th>\n",
              "      <th>PredictedAmountMatch</th>\n",
              "      <th>PredictedTimeCloseMatch</th>\n",
              "    </tr>\n",
              "  </thead>\n",
              "  <tbody>\n",
              "    <tr>\n",
              "      <th>0</th>\n",
              "      <td>10000</td>\n",
              "      <td>10000</td>\n",
              "      <td>10468</td>\n",
              "      <td>10001</td>\n",
              "      <td>0.00</td>\n",
              "      <td>0.0</td>\n",
              "      <td>0.0</td>\n",
              "      <td>1</td>\n",
              "      <td>0</td>\n",
              "      <td>0.0</td>\n",
              "      <td>0</td>\n",
              "      <td>1</td>\n",
              "      <td>0.0</td>\n",
              "      <td>0</td>\n",
              "    </tr>\n",
              "    <tr>\n",
              "      <th>1</th>\n",
              "      <td>10000</td>\n",
              "      <td>10000</td>\n",
              "      <td>10468</td>\n",
              "      <td>10000</td>\n",
              "      <td>0.00</td>\n",
              "      <td>0.0</td>\n",
              "      <td>0.0</td>\n",
              "      <td>1</td>\n",
              "      <td>0</td>\n",
              "      <td>0.0</td>\n",
              "      <td>0</td>\n",
              "      <td>1</td>\n",
              "      <td>0.0</td>\n",
              "      <td>0</td>\n",
              "    </tr>\n",
              "    <tr>\n",
              "      <th>2</th>\n",
              "      <td>10000</td>\n",
              "      <td>10000</td>\n",
              "      <td>10468</td>\n",
              "      <td>10003</td>\n",
              "      <td>0.00</td>\n",
              "      <td>0.0</td>\n",
              "      <td>0.0</td>\n",
              "      <td>1</td>\n",
              "      <td>0</td>\n",
              "      <td>0.0</td>\n",
              "      <td>0</td>\n",
              "      <td>1</td>\n",
              "      <td>0.0</td>\n",
              "      <td>0</td>\n",
              "    </tr>\n",
              "    <tr>\n",
              "      <th>3</th>\n",
              "      <td>10000</td>\n",
              "      <td>10000</td>\n",
              "      <td>10468</td>\n",
              "      <td>10004</td>\n",
              "      <td>0.00</td>\n",
              "      <td>0.0</td>\n",
              "      <td>0.0</td>\n",
              "      <td>1</td>\n",
              "      <td>0</td>\n",
              "      <td>0.0</td>\n",
              "      <td>0</td>\n",
              "      <td>1</td>\n",
              "      <td>0.0</td>\n",
              "      <td>0</td>\n",
              "    </tr>\n",
              "    <tr>\n",
              "      <th>4</th>\n",
              "      <td>10000</td>\n",
              "      <td>10000</td>\n",
              "      <td>10468</td>\n",
              "      <td>10005</td>\n",
              "      <td>0.00</td>\n",
              "      <td>0.0</td>\n",
              "      <td>0.0</td>\n",
              "      <td>1</td>\n",
              "      <td>0</td>\n",
              "      <td>0.0</td>\n",
              "      <td>0</td>\n",
              "      <td>1</td>\n",
              "      <td>0.0</td>\n",
              "      <td>0</td>\n",
              "    </tr>\n",
              "    <tr>\n",
              "      <th>...</th>\n",
              "      <td>...</td>\n",
              "      <td>...</td>\n",
              "      <td>...</td>\n",
              "      <td>...</td>\n",
              "      <td>...</td>\n",
              "      <td>...</td>\n",
              "      <td>...</td>\n",
              "      <td>...</td>\n",
              "      <td>...</td>\n",
              "      <td>...</td>\n",
              "      <td>...</td>\n",
              "      <td>...</td>\n",
              "      <td>...</td>\n",
              "      <td>...</td>\n",
              "    </tr>\n",
              "    <tr>\n",
              "      <th>12029</th>\n",
              "      <td>50226</td>\n",
              "      <td>50000</td>\n",
              "      <td>50368</td>\n",
              "      <td>50074</td>\n",
              "      <td>0.65</td>\n",
              "      <td>0.0</td>\n",
              "      <td>0.0</td>\n",
              "      <td>1</td>\n",
              "      <td>0</td>\n",
              "      <td>0.0</td>\n",
              "      <td>0</td>\n",
              "      <td>0</td>\n",
              "      <td>0.0</td>\n",
              "      <td>0</td>\n",
              "    </tr>\n",
              "    <tr>\n",
              "      <th>12030</th>\n",
              "      <td>50226</td>\n",
              "      <td>50000</td>\n",
              "      <td>50368</td>\n",
              "      <td>50075</td>\n",
              "      <td>0.65</td>\n",
              "      <td>0.0</td>\n",
              "      <td>0.0</td>\n",
              "      <td>1</td>\n",
              "      <td>0</td>\n",
              "      <td>0.0</td>\n",
              "      <td>0</td>\n",
              "      <td>0</td>\n",
              "      <td>0.0</td>\n",
              "      <td>0</td>\n",
              "    </tr>\n",
              "    <tr>\n",
              "      <th>12031</th>\n",
              "      <td>50226</td>\n",
              "      <td>50000</td>\n",
              "      <td>50368</td>\n",
              "      <td>50366</td>\n",
              "      <td>0.00</td>\n",
              "      <td>0.0</td>\n",
              "      <td>0.0</td>\n",
              "      <td>1</td>\n",
              "      <td>0</td>\n",
              "      <td>0.0</td>\n",
              "      <td>0</td>\n",
              "      <td>1</td>\n",
              "      <td>0.0</td>\n",
              "      <td>1</td>\n",
              "    </tr>\n",
              "    <tr>\n",
              "      <th>12032</th>\n",
              "      <td>50226</td>\n",
              "      <td>50000</td>\n",
              "      <td>50368</td>\n",
              "      <td>50367</td>\n",
              "      <td>0.00</td>\n",
              "      <td>0.0</td>\n",
              "      <td>0.0</td>\n",
              "      <td>1</td>\n",
              "      <td>0</td>\n",
              "      <td>0.0</td>\n",
              "      <td>0</td>\n",
              "      <td>1</td>\n",
              "      <td>0.0</td>\n",
              "      <td>0</td>\n",
              "    </tr>\n",
              "    <tr>\n",
              "      <th>12033</th>\n",
              "      <td>50226</td>\n",
              "      <td>50000</td>\n",
              "      <td>50368</td>\n",
              "      <td>50368</td>\n",
              "      <td>0.95</td>\n",
              "      <td>0.0</td>\n",
              "      <td>0.0</td>\n",
              "      <td>1</td>\n",
              "      <td>0</td>\n",
              "      <td>0.0</td>\n",
              "      <td>0</td>\n",
              "      <td>0</td>\n",
              "      <td>0.0</td>\n",
              "      <td>1</td>\n",
              "    </tr>\n",
              "  </tbody>\n",
              "</table>\n",
              "<p>12034 rows × 14 columns</p>\n",
              "</div>"
            ],
            "text/plain": [
              "       receipt_id  company_id  ...  PredictedAmountMatch  PredictedTimeCloseMatch\n",
              "0           10000       10000  ...                   0.0                        0\n",
              "1           10000       10000  ...                   0.0                        0\n",
              "2           10000       10000  ...                   0.0                        0\n",
              "3           10000       10000  ...                   0.0                        0\n",
              "4           10000       10000  ...                   0.0                        0\n",
              "...           ...         ...  ...                   ...                      ...\n",
              "12029       50226       50000  ...                   0.0                        0\n",
              "12030       50226       50000  ...                   0.0                        0\n",
              "12031       50226       50000  ...                   0.0                        1\n",
              "12032       50226       50000  ...                   0.0                        0\n",
              "12033       50226       50000  ...                   0.0                        1\n",
              "\n",
              "[12034 rows x 14 columns]"
            ]
          },
          "metadata": {
            "tags": []
          },
          "execution_count": 2
        }
      ]
    },
    {
      "cell_type": "code",
      "metadata": {
        "id": "N6hWwOL7eHwb",
        "colab_type": "code",
        "outputId": "29cc5dc0-c997-41d6-d3d6-8049efc71e26",
        "colab": {
          "base_uri": "https://localhost:8080/",
          "height": 439
        }
      },
      "source": [
        "# Creating a 'MATCH_FLAG' based on matching values of feature_transaction_id and matched_transaction_id for all receipts\n",
        "df['Match_Flag'] = np.where( (df['receipt_id']== df['receipt_id']) & (df['matched_transaction_id']== df['feature_transaction_id']) &  (df['company_id']== df['company_id']) , '1', '0')\n",
        "df\n"
      ],
      "execution_count": 3,
      "outputs": [
        {
          "output_type": "execute_result",
          "data": {
            "text/html": [
              "<div>\n",
              "<style scoped>\n",
              "    .dataframe tbody tr th:only-of-type {\n",
              "        vertical-align: middle;\n",
              "    }\n",
              "\n",
              "    .dataframe tbody tr th {\n",
              "        vertical-align: top;\n",
              "    }\n",
              "\n",
              "    .dataframe thead th {\n",
              "        text-align: right;\n",
              "    }\n",
              "</style>\n",
              "<table border=\"1\" class=\"dataframe\">\n",
              "  <thead>\n",
              "    <tr style=\"text-align: right;\">\n",
              "      <th></th>\n",
              "      <th>receipt_id</th>\n",
              "      <th>company_id</th>\n",
              "      <th>matched_transaction_id</th>\n",
              "      <th>feature_transaction_id</th>\n",
              "      <th>DateMappingMatch</th>\n",
              "      <th>AmountMappingMatch</th>\n",
              "      <th>DescriptionMatch</th>\n",
              "      <th>DifferentPredictedTime</th>\n",
              "      <th>TimeMappingMatch</th>\n",
              "      <th>PredictedNameMatch</th>\n",
              "      <th>ShortNameMatch</th>\n",
              "      <th>DifferentPredictedDate</th>\n",
              "      <th>PredictedAmountMatch</th>\n",
              "      <th>PredictedTimeCloseMatch</th>\n",
              "      <th>Match_Flag</th>\n",
              "    </tr>\n",
              "  </thead>\n",
              "  <tbody>\n",
              "    <tr>\n",
              "      <th>0</th>\n",
              "      <td>10000</td>\n",
              "      <td>10000</td>\n",
              "      <td>10468</td>\n",
              "      <td>10001</td>\n",
              "      <td>0.00</td>\n",
              "      <td>0.0</td>\n",
              "      <td>0.0</td>\n",
              "      <td>1</td>\n",
              "      <td>0</td>\n",
              "      <td>0.0</td>\n",
              "      <td>0</td>\n",
              "      <td>1</td>\n",
              "      <td>0.0</td>\n",
              "      <td>0</td>\n",
              "      <td>0</td>\n",
              "    </tr>\n",
              "    <tr>\n",
              "      <th>1</th>\n",
              "      <td>10000</td>\n",
              "      <td>10000</td>\n",
              "      <td>10468</td>\n",
              "      <td>10000</td>\n",
              "      <td>0.00</td>\n",
              "      <td>0.0</td>\n",
              "      <td>0.0</td>\n",
              "      <td>1</td>\n",
              "      <td>0</td>\n",
              "      <td>0.0</td>\n",
              "      <td>0</td>\n",
              "      <td>1</td>\n",
              "      <td>0.0</td>\n",
              "      <td>0</td>\n",
              "      <td>0</td>\n",
              "    </tr>\n",
              "    <tr>\n",
              "      <th>2</th>\n",
              "      <td>10000</td>\n",
              "      <td>10000</td>\n",
              "      <td>10468</td>\n",
              "      <td>10003</td>\n",
              "      <td>0.00</td>\n",
              "      <td>0.0</td>\n",
              "      <td>0.0</td>\n",
              "      <td>1</td>\n",
              "      <td>0</td>\n",
              "      <td>0.0</td>\n",
              "      <td>0</td>\n",
              "      <td>1</td>\n",
              "      <td>0.0</td>\n",
              "      <td>0</td>\n",
              "      <td>0</td>\n",
              "    </tr>\n",
              "    <tr>\n",
              "      <th>3</th>\n",
              "      <td>10000</td>\n",
              "      <td>10000</td>\n",
              "      <td>10468</td>\n",
              "      <td>10004</td>\n",
              "      <td>0.00</td>\n",
              "      <td>0.0</td>\n",
              "      <td>0.0</td>\n",
              "      <td>1</td>\n",
              "      <td>0</td>\n",
              "      <td>0.0</td>\n",
              "      <td>0</td>\n",
              "      <td>1</td>\n",
              "      <td>0.0</td>\n",
              "      <td>0</td>\n",
              "      <td>0</td>\n",
              "    </tr>\n",
              "    <tr>\n",
              "      <th>4</th>\n",
              "      <td>10000</td>\n",
              "      <td>10000</td>\n",
              "      <td>10468</td>\n",
              "      <td>10005</td>\n",
              "      <td>0.00</td>\n",
              "      <td>0.0</td>\n",
              "      <td>0.0</td>\n",
              "      <td>1</td>\n",
              "      <td>0</td>\n",
              "      <td>0.0</td>\n",
              "      <td>0</td>\n",
              "      <td>1</td>\n",
              "      <td>0.0</td>\n",
              "      <td>0</td>\n",
              "      <td>0</td>\n",
              "    </tr>\n",
              "    <tr>\n",
              "      <th>...</th>\n",
              "      <td>...</td>\n",
              "      <td>...</td>\n",
              "      <td>...</td>\n",
              "      <td>...</td>\n",
              "      <td>...</td>\n",
              "      <td>...</td>\n",
              "      <td>...</td>\n",
              "      <td>...</td>\n",
              "      <td>...</td>\n",
              "      <td>...</td>\n",
              "      <td>...</td>\n",
              "      <td>...</td>\n",
              "      <td>...</td>\n",
              "      <td>...</td>\n",
              "      <td>...</td>\n",
              "    </tr>\n",
              "    <tr>\n",
              "      <th>12029</th>\n",
              "      <td>50226</td>\n",
              "      <td>50000</td>\n",
              "      <td>50368</td>\n",
              "      <td>50074</td>\n",
              "      <td>0.65</td>\n",
              "      <td>0.0</td>\n",
              "      <td>0.0</td>\n",
              "      <td>1</td>\n",
              "      <td>0</td>\n",
              "      <td>0.0</td>\n",
              "      <td>0</td>\n",
              "      <td>0</td>\n",
              "      <td>0.0</td>\n",
              "      <td>0</td>\n",
              "      <td>0</td>\n",
              "    </tr>\n",
              "    <tr>\n",
              "      <th>12030</th>\n",
              "      <td>50226</td>\n",
              "      <td>50000</td>\n",
              "      <td>50368</td>\n",
              "      <td>50075</td>\n",
              "      <td>0.65</td>\n",
              "      <td>0.0</td>\n",
              "      <td>0.0</td>\n",
              "      <td>1</td>\n",
              "      <td>0</td>\n",
              "      <td>0.0</td>\n",
              "      <td>0</td>\n",
              "      <td>0</td>\n",
              "      <td>0.0</td>\n",
              "      <td>0</td>\n",
              "      <td>0</td>\n",
              "    </tr>\n",
              "    <tr>\n",
              "      <th>12031</th>\n",
              "      <td>50226</td>\n",
              "      <td>50000</td>\n",
              "      <td>50368</td>\n",
              "      <td>50366</td>\n",
              "      <td>0.00</td>\n",
              "      <td>0.0</td>\n",
              "      <td>0.0</td>\n",
              "      <td>1</td>\n",
              "      <td>0</td>\n",
              "      <td>0.0</td>\n",
              "      <td>0</td>\n",
              "      <td>1</td>\n",
              "      <td>0.0</td>\n",
              "      <td>1</td>\n",
              "      <td>0</td>\n",
              "    </tr>\n",
              "    <tr>\n",
              "      <th>12032</th>\n",
              "      <td>50226</td>\n",
              "      <td>50000</td>\n",
              "      <td>50368</td>\n",
              "      <td>50367</td>\n",
              "      <td>0.00</td>\n",
              "      <td>0.0</td>\n",
              "      <td>0.0</td>\n",
              "      <td>1</td>\n",
              "      <td>0</td>\n",
              "      <td>0.0</td>\n",
              "      <td>0</td>\n",
              "      <td>1</td>\n",
              "      <td>0.0</td>\n",
              "      <td>0</td>\n",
              "      <td>0</td>\n",
              "    </tr>\n",
              "    <tr>\n",
              "      <th>12033</th>\n",
              "      <td>50226</td>\n",
              "      <td>50000</td>\n",
              "      <td>50368</td>\n",
              "      <td>50368</td>\n",
              "      <td>0.95</td>\n",
              "      <td>0.0</td>\n",
              "      <td>0.0</td>\n",
              "      <td>1</td>\n",
              "      <td>0</td>\n",
              "      <td>0.0</td>\n",
              "      <td>0</td>\n",
              "      <td>0</td>\n",
              "      <td>0.0</td>\n",
              "      <td>1</td>\n",
              "      <td>1</td>\n",
              "    </tr>\n",
              "  </tbody>\n",
              "</table>\n",
              "<p>12034 rows × 15 columns</p>\n",
              "</div>"
            ],
            "text/plain": [
              "       receipt_id  company_id  ...  PredictedTimeCloseMatch  Match_Flag\n",
              "0           10000       10000  ...                        0           0\n",
              "1           10000       10000  ...                        0           0\n",
              "2           10000       10000  ...                        0           0\n",
              "3           10000       10000  ...                        0           0\n",
              "4           10000       10000  ...                        0           0\n",
              "...           ...         ...  ...                      ...         ...\n",
              "12029       50226       50000  ...                        0           0\n",
              "12030       50226       50000  ...                        0           0\n",
              "12031       50226       50000  ...                        1           0\n",
              "12032       50226       50000  ...                        0           0\n",
              "12033       50226       50000  ...                        1           1\n",
              "\n",
              "[12034 rows x 15 columns]"
            ]
          },
          "metadata": {
            "tags": []
          },
          "execution_count": 3
        }
      ]
    },
    {
      "cell_type": "code",
      "metadata": {
        "id": "w9hot5isedFH",
        "colab_type": "code",
        "outputId": "0420f105-36ec-4878-fec0-35b942422ba7",
        "colab": {
          "base_uri": "https://localhost:8080/",
          "height": 221
        }
      },
      "source": [
        "# Declaring the PREDICTORS(Independent features) and RESPONSE(Dependent features) variables \n",
        "X = df.iloc[:,0:14]\n",
        "X\n",
        "\n",
        "\n",
        "Y = df.iloc[:,-1]\n",
        "Y\n"
      ],
      "execution_count": 4,
      "outputs": [
        {
          "output_type": "execute_result",
          "data": {
            "text/plain": [
              "0        0\n",
              "1        0\n",
              "2        0\n",
              "3        0\n",
              "4        0\n",
              "        ..\n",
              "12029    0\n",
              "12030    0\n",
              "12031    0\n",
              "12032    0\n",
              "12033    1\n",
              "Name: Match_Flag, Length: 12034, dtype: object"
            ]
          },
          "metadata": {
            "tags": []
          },
          "execution_count": 4
        }
      ]
    },
    {
      "cell_type": "code",
      "metadata": {
        "id": "EiF5b2umeeC1",
        "colab_type": "code",
        "colab": {}
      },
      "source": [
        "# Splitting the dataset into train set and test set\n",
        "x_train, x_test, y_train, y_test = train_test_split(X, Y, test_size=0.2) # 80% training \n"
      ],
      "execution_count": 0,
      "outputs": []
    },
    {
      "cell_type": "code",
      "metadata": {
        "id": "VqeaD21qeiow",
        "colab_type": "code",
        "colab": {}
      },
      "source": [
        "# Converting the data into numpy arrays \n",
        "x_train = np.array(x_train)\n",
        "x_test = np.array(x_test)\n",
        "\n",
        "\n",
        "y_train = np.array(y_train)\n",
        "y_test = np.array(y_test)\n",
        "\n"
      ],
      "execution_count": 0,
      "outputs": []
    },
    {
      "cell_type": "code",
      "metadata": {
        "id": "i28nqXz2-19B",
        "colab_type": "code",
        "outputId": "c9d89ceb-8d2b-451b-c718-644d62eb7e9e",
        "colab": {
          "base_uri": "https://localhost:8080/",
          "height": 34
        }
      },
      "source": [
        "# Verifying the shape of train data set\n",
        "x_train.shape"
      ],
      "execution_count": 7,
      "outputs": [
        {
          "output_type": "execute_result",
          "data": {
            "text/plain": [
              "(9627, 14)"
            ]
          },
          "metadata": {
            "tags": []
          },
          "execution_count": 7
        }
      ]
    },
    {
      "cell_type": "code",
      "metadata": {
        "id": "uH-5BGNgeslT",
        "colab_type": "code",
        "outputId": "af2923d2-e114-488f-d1bf-cc560ced8fd5",
        "colab": {
          "base_uri": "https://localhost:8080/",
          "height": 224
        }
      },
      "source": [
        "# Declaring the paramerters of Bi-directional LSTM - RNN Model for learning the matching features\n",
        "model = Sequential()\n",
        "model.add(Embedding(80000, 32, input_length=None))\n",
        "model.add(Bidirectional(LSTM(32)))\n",
        "model.add(Dropout(0.4))\n",
        "model.add(Dense(1, activation='sigmoid'))\n"
      ],
      "execution_count": 8,
      "outputs": [
        {
          "output_type": "stream",
          "text": [
            "WARNING:tensorflow:From /usr/local/lib/python3.6/dist-packages/keras/backend/tensorflow_backend.py:66: The name tf.get_default_graph is deprecated. Please use tf.compat.v1.get_default_graph instead.\n",
            "\n",
            "WARNING:tensorflow:From /usr/local/lib/python3.6/dist-packages/keras/backend/tensorflow_backend.py:541: The name tf.placeholder is deprecated. Please use tf.compat.v1.placeholder instead.\n",
            "\n",
            "WARNING:tensorflow:From /usr/local/lib/python3.6/dist-packages/keras/backend/tensorflow_backend.py:4432: The name tf.random_uniform is deprecated. Please use tf.random.uniform instead.\n",
            "\n",
            "WARNING:tensorflow:From /usr/local/lib/python3.6/dist-packages/keras/backend/tensorflow_backend.py:148: The name tf.placeholder_with_default is deprecated. Please use tf.compat.v1.placeholder_with_default instead.\n",
            "\n",
            "WARNING:tensorflow:From /usr/local/lib/python3.6/dist-packages/keras/backend/tensorflow_backend.py:3733: calling dropout (from tensorflow.python.ops.nn_ops) with keep_prob is deprecated and will be removed in a future version.\n",
            "Instructions for updating:\n",
            "Please use `rate` instead of `keep_prob`. Rate should be set to `rate = 1 - keep_prob`.\n"
          ],
          "name": "stdout"
        }
      ]
    },
    {
      "cell_type": "code",
      "metadata": {
        "id": "G4kDOhhv86dv",
        "colab_type": "code",
        "outputId": "a2d57dc9-74f1-4a2c-c6c7-7bd627cb291e",
        "colab": {
          "base_uri": "https://localhost:8080/",
          "height": 156
        }
      },
      "source": [
        "# Compiling the LSTM MODEL using Binary_CrossEntropy\n",
        "model.compile('adam', 'binary_crossentropy', metrics=['accuracy'])\n"
      ],
      "execution_count": 9,
      "outputs": [
        {
          "output_type": "stream",
          "text": [
            "WARNING:tensorflow:From /usr/local/lib/python3.6/dist-packages/keras/optimizers.py:793: The name tf.train.Optimizer is deprecated. Please use tf.compat.v1.train.Optimizer instead.\n",
            "\n",
            "WARNING:tensorflow:From /usr/local/lib/python3.6/dist-packages/keras/backend/tensorflow_backend.py:3657: The name tf.log is deprecated. Please use tf.math.log instead.\n",
            "\n",
            "WARNING:tensorflow:From /usr/local/lib/python3.6/dist-packages/tensorflow_core/python/ops/nn_impl.py:183: where (from tensorflow.python.ops.array_ops) is deprecated and will be removed in a future version.\n",
            "Instructions for updating:\n",
            "Use tf.where in 2.0, which has the same broadcast rule as np.where\n"
          ],
          "name": "stdout"
        }
      ]
    },
    {
      "cell_type": "code",
      "metadata": {
        "id": "7yJ4mt0d89wV",
        "colab_type": "code",
        "outputId": "4118176c-d265-49a4-8a37-a0f71a019c50",
        "colab": {
          "base_uri": "https://localhost:8080/",
          "height": 1000
        }
      },
      "source": [
        "# Building the LSTM - RNN model \n",
        "print('Train...')\n",
        "\n",
        "model.fit(x_train, y_train,\n",
        "          batch_size=100,\n",
        "          epochs=100,\n",
        "          validation_data=[x_test, y_test])"
      ],
      "execution_count": 10,
      "outputs": [
        {
          "output_type": "stream",
          "text": [
            "Train...\n",
            "WARNING:tensorflow:From /usr/local/lib/python3.6/dist-packages/keras/backend/tensorflow_backend.py:1033: The name tf.assign_add is deprecated. Please use tf.compat.v1.assign_add instead.\n",
            "\n",
            "WARNING:tensorflow:From /usr/local/lib/python3.6/dist-packages/keras/backend/tensorflow_backend.py:1020: The name tf.assign is deprecated. Please use tf.compat.v1.assign instead.\n",
            "\n",
            "WARNING:tensorflow:From /usr/local/lib/python3.6/dist-packages/keras/backend/tensorflow_backend.py:3005: The name tf.Session is deprecated. Please use tf.compat.v1.Session instead.\n",
            "\n",
            "Train on 9627 samples, validate on 2407 samples\n",
            "Epoch 1/100\n",
            "WARNING:tensorflow:From /usr/local/lib/python3.6/dist-packages/keras/backend/tensorflow_backend.py:190: The name tf.get_default_session is deprecated. Please use tf.compat.v1.get_default_session instead.\n",
            "\n",
            "WARNING:tensorflow:From /usr/local/lib/python3.6/dist-packages/keras/backend/tensorflow_backend.py:197: The name tf.ConfigProto is deprecated. Please use tf.compat.v1.ConfigProto instead.\n",
            "\n",
            "WARNING:tensorflow:From /usr/local/lib/python3.6/dist-packages/keras/backend/tensorflow_backend.py:207: The name tf.global_variables is deprecated. Please use tf.compat.v1.global_variables instead.\n",
            "\n",
            "WARNING:tensorflow:From /usr/local/lib/python3.6/dist-packages/keras/backend/tensorflow_backend.py:216: The name tf.is_variable_initialized is deprecated. Please use tf.compat.v1.is_variable_initialized instead.\n",
            "\n",
            "WARNING:tensorflow:From /usr/local/lib/python3.6/dist-packages/keras/backend/tensorflow_backend.py:223: The name tf.variables_initializer is deprecated. Please use tf.compat.v1.variables_initializer instead.\n",
            "\n",
            "9627/9627 [==============================] - 7s 778us/step - loss: 0.3298 - acc: 0.9304 - val_loss: 0.2738 - val_acc: 0.9215\n",
            "Epoch 2/100\n",
            "9627/9627 [==============================] - 6s 579us/step - loss: 0.2423 - acc: 0.9306 - val_loss: 0.2721 - val_acc: 0.9215\n",
            "Epoch 3/100\n",
            "9627/9627 [==============================] - 6s 572us/step - loss: 0.2015 - acc: 0.9306 - val_loss: 0.4372 - val_acc: 0.9215\n",
            "Epoch 4/100\n",
            "9627/9627 [==============================] - 6s 575us/step - loss: 0.1687 - acc: 0.9306 - val_loss: 0.4987 - val_acc: 0.9215\n",
            "Epoch 5/100\n",
            "9627/9627 [==============================] - 6s 578us/step - loss: 0.1494 - acc: 0.9312 - val_loss: 0.6330 - val_acc: 0.9202\n",
            "Epoch 6/100\n",
            "9627/9627 [==============================] - 6s 577us/step - loss: 0.1340 - acc: 0.9307 - val_loss: 0.7018 - val_acc: 0.9194\n",
            "Epoch 7/100\n",
            "9627/9627 [==============================] - 5s 568us/step - loss: 0.1263 - acc: 0.9330 - val_loss: 0.7489 - val_acc: 0.9186\n",
            "Epoch 8/100\n",
            "9627/9627 [==============================] - 6s 571us/step - loss: 0.1166 - acc: 0.9337 - val_loss: 0.7925 - val_acc: 0.9015\n",
            "Epoch 9/100\n",
            "9627/9627 [==============================] - 5s 569us/step - loss: 0.1139 - acc: 0.9375 - val_loss: 0.7891 - val_acc: 0.9044\n",
            "Epoch 10/100\n",
            "9627/9627 [==============================] - 6s 576us/step - loss: 0.1085 - acc: 0.9394 - val_loss: 0.7873 - val_acc: 0.8941\n",
            "Epoch 11/100\n",
            "9627/9627 [==============================] - 6s 573us/step - loss: 0.1020 - acc: 0.9431 - val_loss: 0.7928 - val_acc: 0.8770\n",
            "Epoch 12/100\n",
            "9627/9627 [==============================] - 6s 576us/step - loss: 0.0968 - acc: 0.9453 - val_loss: 0.7797 - val_acc: 0.8683\n",
            "Epoch 13/100\n",
            "9627/9627 [==============================] - 6s 572us/step - loss: 0.0944 - acc: 0.9470 - val_loss: 0.7888 - val_acc: 0.8787\n",
            "Epoch 14/100\n",
            "9627/9627 [==============================] - 6s 575us/step - loss: 0.0895 - acc: 0.9494 - val_loss: 0.8020 - val_acc: 0.8679\n",
            "Epoch 15/100\n",
            "9627/9627 [==============================] - 6s 579us/step - loss: 0.0835 - acc: 0.9524 - val_loss: 0.8192 - val_acc: 0.8650\n",
            "Epoch 16/100\n",
            "9627/9627 [==============================] - 6s 583us/step - loss: 0.0842 - acc: 0.9536 - val_loss: 0.8003 - val_acc: 0.8546\n",
            "Epoch 17/100\n",
            "9627/9627 [==============================] - 6s 585us/step - loss: 0.0802 - acc: 0.9541 - val_loss: 0.8268 - val_acc: 0.8679\n",
            "Epoch 18/100\n",
            "9627/9627 [==============================] - 6s 577us/step - loss: 0.0772 - acc: 0.9556 - val_loss: 0.8541 - val_acc: 0.8637\n",
            "Epoch 19/100\n",
            "9627/9627 [==============================] - 6s 584us/step - loss: 0.0729 - acc: 0.9579 - val_loss: 0.8671 - val_acc: 0.8629\n",
            "Epoch 20/100\n",
            "9627/9627 [==============================] - 6s 581us/step - loss: 0.0695 - acc: 0.9614 - val_loss: 0.8687 - val_acc: 0.8621\n",
            "Epoch 21/100\n",
            "9627/9627 [==============================] - 6s 577us/step - loss: 0.0669 - acc: 0.9616 - val_loss: 0.8612 - val_acc: 0.8629\n",
            "Epoch 22/100\n",
            "9627/9627 [==============================] - 5s 568us/step - loss: 0.0631 - acc: 0.9648 - val_loss: 0.8941 - val_acc: 0.8658\n",
            "Epoch 23/100\n",
            "9627/9627 [==============================] - 5s 570us/step - loss: 0.0614 - acc: 0.9660 - val_loss: 0.8971 - val_acc: 0.8633\n",
            "Epoch 24/100\n",
            "9627/9627 [==============================] - 5s 565us/step - loss: 0.0578 - acc: 0.9663 - val_loss: 0.9422 - val_acc: 0.8683\n",
            "Epoch 25/100\n",
            "9627/9627 [==============================] - 6s 575us/step - loss: 0.0529 - acc: 0.9698 - val_loss: 0.9465 - val_acc: 0.8629\n",
            "Epoch 26/100\n",
            "9627/9627 [==============================] - 6s 573us/step - loss: 0.0502 - acc: 0.9726 - val_loss: 0.9636 - val_acc: 0.8641\n",
            "Epoch 27/100\n",
            "9627/9627 [==============================] - 5s 569us/step - loss: 0.0475 - acc: 0.9749 - val_loss: 0.9271 - val_acc: 0.8617\n",
            "Epoch 28/100\n",
            "9627/9627 [==============================] - 6s 572us/step - loss: 0.0482 - acc: 0.9747 - val_loss: 0.9947 - val_acc: 0.8666\n",
            "Epoch 29/100\n",
            "9627/9627 [==============================] - 5s 569us/step - loss: 0.0429 - acc: 0.9781 - val_loss: 0.9915 - val_acc: 0.8658\n",
            "Epoch 30/100\n",
            "9627/9627 [==============================] - 5s 570us/step - loss: 0.0413 - acc: 0.9786 - val_loss: 1.0520 - val_acc: 0.8720\n",
            "Epoch 31/100\n",
            "9627/9627 [==============================] - 5s 567us/step - loss: 0.0374 - acc: 0.9811 - val_loss: 0.9991 - val_acc: 0.8571\n",
            "Epoch 32/100\n",
            "9627/9627 [==============================] - 5s 569us/step - loss: 0.0381 - acc: 0.9824 - val_loss: 0.9469 - val_acc: 0.8654\n",
            "Epoch 33/100\n",
            "9627/9627 [==============================] - 5s 566us/step - loss: 0.0332 - acc: 0.9838 - val_loss: 1.0593 - val_acc: 0.8587\n",
            "Epoch 34/100\n",
            "9627/9627 [==============================] - 5s 568us/step - loss: 0.0296 - acc: 0.9857 - val_loss: 1.1289 - val_acc: 0.8716\n",
            "Epoch 35/100\n",
            "9627/9627 [==============================] - 5s 566us/step - loss: 0.0315 - acc: 0.9855 - val_loss: 1.1311 - val_acc: 0.8695\n",
            "Epoch 36/100\n",
            "9627/9627 [==============================] - 6s 571us/step - loss: 0.0302 - acc: 0.9854 - val_loss: 1.1255 - val_acc: 0.8700\n",
            "Epoch 37/100\n",
            "9627/9627 [==============================] - 6s 578us/step - loss: 0.0233 - acc: 0.9887 - val_loss: 1.1538 - val_acc: 0.8662\n",
            "Epoch 38/100\n",
            "9627/9627 [==============================] - 5s 568us/step - loss: 0.0232 - acc: 0.9909 - val_loss: 1.2023 - val_acc: 0.8658\n",
            "Epoch 39/100\n",
            "9627/9627 [==============================] - 6s 573us/step - loss: 0.0189 - acc: 0.9926 - val_loss: 1.2017 - val_acc: 0.8762\n",
            "Epoch 40/100\n",
            "9627/9627 [==============================] - 5s 570us/step - loss: 0.0205 - acc: 0.9912 - val_loss: 1.1896 - val_acc: 0.8671\n",
            "Epoch 41/100\n",
            "9627/9627 [==============================] - 6s 575us/step - loss: 0.0148 - acc: 0.9936 - val_loss: 1.2162 - val_acc: 0.8741\n",
            "Epoch 42/100\n",
            "9627/9627 [==============================] - 6s 573us/step - loss: 0.0155 - acc: 0.9926 - val_loss: 1.1943 - val_acc: 0.8766\n",
            "Epoch 43/100\n",
            "9627/9627 [==============================] - 5s 564us/step - loss: 0.0150 - acc: 0.9938 - val_loss: 1.2337 - val_acc: 0.8749\n",
            "Epoch 44/100\n",
            "9627/9627 [==============================] - 5s 570us/step - loss: 0.0120 - acc: 0.9949 - val_loss: 1.2831 - val_acc: 0.8675\n",
            "Epoch 45/100\n",
            "9627/9627 [==============================] - 5s 569us/step - loss: 0.0118 - acc: 0.9948 - val_loss: 1.2931 - val_acc: 0.8754\n",
            "Epoch 46/100\n",
            "9627/9627 [==============================] - 5s 568us/step - loss: 0.0112 - acc: 0.9949 - val_loss: 1.2884 - val_acc: 0.8758\n",
            "Epoch 47/100\n",
            "9627/9627 [==============================] - 5s 568us/step - loss: 0.0102 - acc: 0.9954 - val_loss: 1.3149 - val_acc: 0.8725\n",
            "Epoch 48/100\n",
            "9627/9627 [==============================] - 6s 573us/step - loss: 0.0155 - acc: 0.9938 - val_loss: 1.2979 - val_acc: 0.8579\n",
            "Epoch 49/100\n",
            "9627/9627 [==============================] - 5s 568us/step - loss: 0.0142 - acc: 0.9938 - val_loss: 1.2881 - val_acc: 0.8683\n",
            "Epoch 50/100\n",
            "9627/9627 [==============================] - 5s 571us/step - loss: 0.0096 - acc: 0.9950 - val_loss: 1.3123 - val_acc: 0.8758\n",
            "Epoch 51/100\n",
            "9627/9627 [==============================] - 5s 565us/step - loss: 0.0090 - acc: 0.9957 - val_loss: 1.3055 - val_acc: 0.8762\n",
            "Epoch 52/100\n",
            "9627/9627 [==============================] - 5s 568us/step - loss: 0.0086 - acc: 0.9962 - val_loss: 1.3208 - val_acc: 0.8716\n",
            "Epoch 53/100\n",
            "9627/9627 [==============================] - 5s 569us/step - loss: 0.0078 - acc: 0.9967 - val_loss: 1.3322 - val_acc: 0.8737\n",
            "Epoch 54/100\n",
            "9627/9627 [==============================] - 5s 566us/step - loss: 0.0068 - acc: 0.9972 - val_loss: 1.3274 - val_acc: 0.8691\n",
            "Epoch 55/100\n",
            "9627/9627 [==============================] - 5s 566us/step - loss: 0.0069 - acc: 0.9961 - val_loss: 1.3342 - val_acc: 0.8791\n",
            "Epoch 56/100\n",
            "9627/9627 [==============================] - 6s 585us/step - loss: 0.0067 - acc: 0.9963 - val_loss: 1.3427 - val_acc: 0.8749\n",
            "Epoch 57/100\n",
            "9627/9627 [==============================] - 6s 582us/step - loss: 0.0074 - acc: 0.9963 - val_loss: 1.3616 - val_acc: 0.8695\n",
            "Epoch 58/100\n",
            "9627/9627 [==============================] - 6s 584us/step - loss: 0.0105 - acc: 0.9955 - val_loss: 1.3256 - val_acc: 0.8691\n",
            "Epoch 59/100\n",
            "9627/9627 [==============================] - 6s 583us/step - loss: 0.0073 - acc: 0.9962 - val_loss: 1.3551 - val_acc: 0.8749\n",
            "Epoch 60/100\n",
            "9627/9627 [==============================] - 6s 580us/step - loss: 0.0064 - acc: 0.9965 - val_loss: 1.3333 - val_acc: 0.8770\n",
            "Epoch 61/100\n",
            "9627/9627 [==============================] - 6s 574us/step - loss: 0.0081 - acc: 0.9961 - val_loss: 1.3366 - val_acc: 0.8787\n",
            "Epoch 62/100\n",
            "9627/9627 [==============================] - 6s 586us/step - loss: 0.0076 - acc: 0.9967 - val_loss: 1.3764 - val_acc: 0.8733\n",
            "Epoch 63/100\n",
            "9627/9627 [==============================] - 6s 581us/step - loss: 0.0106 - acc: 0.9957 - val_loss: 1.3185 - val_acc: 0.8833\n",
            "Epoch 64/100\n",
            "9627/9627 [==============================] - 6s 590us/step - loss: 0.0058 - acc: 0.9977 - val_loss: 1.3471 - val_acc: 0.8754\n",
            "Epoch 65/100\n",
            "9627/9627 [==============================] - 6s 587us/step - loss: 0.0057 - acc: 0.9978 - val_loss: 1.3643 - val_acc: 0.8675\n",
            "Epoch 66/100\n",
            "9627/9627 [==============================] - 6s 584us/step - loss: 0.0060 - acc: 0.9975 - val_loss: 1.3723 - val_acc: 0.8745\n",
            "Epoch 67/100\n",
            "9627/9627 [==============================] - 6s 584us/step - loss: 0.0053 - acc: 0.9974 - val_loss: 1.3533 - val_acc: 0.8770\n",
            "Epoch 68/100\n",
            "9627/9627 [==============================] - 6s 586us/step - loss: 0.0050 - acc: 0.9980 - val_loss: 1.3606 - val_acc: 0.8716\n",
            "Epoch 69/100\n",
            "9627/9627 [==============================] - 6s 588us/step - loss: 0.0044 - acc: 0.9981 - val_loss: 1.3610 - val_acc: 0.8766\n",
            "Epoch 70/100\n",
            "9627/9627 [==============================] - 6s 588us/step - loss: 0.0047 - acc: 0.9978 - val_loss: 1.3783 - val_acc: 0.8762\n",
            "Epoch 71/100\n",
            "9627/9627 [==============================] - 6s 583us/step - loss: 0.0047 - acc: 0.9980 - val_loss: 1.3903 - val_acc: 0.8712\n",
            "Epoch 72/100\n",
            "9627/9627 [==============================] - 6s 606us/step - loss: 0.0038 - acc: 0.9983 - val_loss: 1.3853 - val_acc: 0.8749\n",
            "Epoch 73/100\n",
            "9627/9627 [==============================] - 6s 584us/step - loss: 0.0036 - acc: 0.9985 - val_loss: 1.3822 - val_acc: 0.8787\n",
            "Epoch 74/100\n",
            "9627/9627 [==============================] - 6s 587us/step - loss: 0.0033 - acc: 0.9986 - val_loss: 1.4031 - val_acc: 0.8737\n",
            "Epoch 75/100\n",
            "9627/9627 [==============================] - 6s 598us/step - loss: 0.0034 - acc: 0.9984 - val_loss: 1.4020 - val_acc: 0.8741\n",
            "Epoch 76/100\n",
            "9627/9627 [==============================] - 6s 598us/step - loss: 0.0035 - acc: 0.9984 - val_loss: 1.4094 - val_acc: 0.8737\n",
            "Epoch 77/100\n",
            "9627/9627 [==============================] - 6s 591us/step - loss: 0.0032 - acc: 0.9988 - val_loss: 1.4299 - val_acc: 0.8716\n",
            "Epoch 78/100\n",
            "9627/9627 [==============================] - 6s 580us/step - loss: 0.0045 - acc: 0.9984 - val_loss: 1.4574 - val_acc: 0.8733\n",
            "Epoch 79/100\n",
            "9627/9627 [==============================] - 6s 587us/step - loss: 0.0075 - acc: 0.9968 - val_loss: 1.2130 - val_acc: 0.8828\n",
            "Epoch 80/100\n",
            "9627/9627 [==============================] - 6s 591us/step - loss: 0.0102 - acc: 0.9962 - val_loss: 1.2110 - val_acc: 0.8795\n",
            "Epoch 81/100\n",
            "9627/9627 [==============================] - 6s 582us/step - loss: 0.0051 - acc: 0.9979 - val_loss: 1.2893 - val_acc: 0.8745\n",
            "Epoch 82/100\n",
            "9627/9627 [==============================] - 6s 587us/step - loss: 0.0174 - acc: 0.9952 - val_loss: 1.2431 - val_acc: 0.8745\n",
            "Epoch 83/100\n",
            "9627/9627 [==============================] - 5s 568us/step - loss: 0.0059 - acc: 0.9977 - val_loss: 1.4736 - val_acc: 0.8500\n",
            "Epoch 84/100\n",
            "9627/9627 [==============================] - 6s 580us/step - loss: 0.0090 - acc: 0.9978 - val_loss: 1.3082 - val_acc: 0.8683\n",
            "Epoch 85/100\n",
            "9627/9627 [==============================] - 6s 586us/step - loss: 0.0038 - acc: 0.9986 - val_loss: 1.3104 - val_acc: 0.8754\n",
            "Epoch 86/100\n",
            "9627/9627 [==============================] - 6s 581us/step - loss: 0.0038 - acc: 0.9984 - val_loss: 1.3050 - val_acc: 0.8803\n",
            "Epoch 87/100\n",
            "9627/9627 [==============================] - 6s 584us/step - loss: 0.0032 - acc: 0.9988 - val_loss: 1.3171 - val_acc: 0.8812\n",
            "Epoch 88/100\n",
            "9627/9627 [==============================] - 6s 579us/step - loss: 0.0028 - acc: 0.9991 - val_loss: 1.3255 - val_acc: 0.8812\n",
            "Epoch 89/100\n",
            "9627/9627 [==============================] - 6s 577us/step - loss: 0.0025 - acc: 0.9992 - val_loss: 1.3396 - val_acc: 0.8808\n",
            "Epoch 90/100\n",
            "9627/9627 [==============================] - 6s 576us/step - loss: 0.0025 - acc: 0.9992 - val_loss: 1.3549 - val_acc: 0.8795\n",
            "Epoch 91/100\n",
            "9627/9627 [==============================] - 6s 589us/step - loss: 0.0035 - acc: 0.9985 - val_loss: 1.3425 - val_acc: 0.8833\n",
            "Epoch 92/100\n",
            "9627/9627 [==============================] - 6s 590us/step - loss: 0.0024 - acc: 0.9990 - val_loss: 1.3587 - val_acc: 0.8824\n",
            "Epoch 93/100\n",
            "9627/9627 [==============================] - 6s 591us/step - loss: 0.0021 - acc: 0.9991 - val_loss: 1.3527 - val_acc: 0.8837\n",
            "Epoch 94/100\n",
            "9627/9627 [==============================] - 6s 588us/step - loss: 0.0026 - acc: 0.9990 - val_loss: 1.3798 - val_acc: 0.8808\n",
            "Epoch 95/100\n",
            "9627/9627 [==============================] - 6s 592us/step - loss: 0.0026 - acc: 0.9991 - val_loss: 1.4184 - val_acc: 0.8749\n",
            "Epoch 96/100\n",
            "9627/9627 [==============================] - 6s 589us/step - loss: 0.0025 - acc: 0.9990 - val_loss: 1.3960 - val_acc: 0.8774\n",
            "Epoch 97/100\n",
            "9627/9627 [==============================] - 6s 586us/step - loss: 0.0022 - acc: 0.9993 - val_loss: 1.3922 - val_acc: 0.8779\n",
            "Epoch 98/100\n",
            "9627/9627 [==============================] - 6s 587us/step - loss: 0.0032 - acc: 0.9990 - val_loss: 1.3814 - val_acc: 0.8841\n",
            "Epoch 99/100\n",
            "9627/9627 [==============================] - 6s 572us/step - loss: 0.0018 - acc: 0.9993 - val_loss: 1.4025 - val_acc: 0.8791\n",
            "Epoch 100/100\n",
            "9627/9627 [==============================] - 6s 583us/step - loss: 0.0018 - acc: 0.9995 - val_loss: 1.4100 - val_acc: 0.8795\n"
          ],
          "name": "stdout"
        },
        {
          "output_type": "execute_result",
          "data": {
            "text/plain": [
              "<keras.callbacks.History at 0x7f9c5cc7cc88>"
            ]
          },
          "metadata": {
            "tags": []
          },
          "execution_count": 10
        }
      ]
    },
    {
      "cell_type": "code",
      "metadata": {
        "id": "u2El5UsF1fkO",
        "colab_type": "code",
        "colab": {
          "base_uri": "https://localhost:8080/",
          "height": 289
        },
        "outputId": "5d033bff-2d55-4617-c0b1-97089fe6191c"
      },
      "source": [
        "# Verifying the Embedded layers and the Bi-directional parameteres of the model\n",
        "model.summary()"
      ],
      "execution_count": 11,
      "outputs": [
        {
          "output_type": "stream",
          "text": [
            "Model: \"sequential_1\"\n",
            "_________________________________________________________________\n",
            "Layer (type)                 Output Shape              Param #   \n",
            "=================================================================\n",
            "embedding_1 (Embedding)      (None, None, 32)          2560000   \n",
            "_________________________________________________________________\n",
            "bidirectional_1 (Bidirection (None, 64)                16640     \n",
            "_________________________________________________________________\n",
            "dropout_1 (Dropout)          (None, 64)                0         \n",
            "_________________________________________________________________\n",
            "dense_1 (Dense)              (None, 1)                 65        \n",
            "=================================================================\n",
            "Total params: 2,576,705\n",
            "Trainable params: 2,576,705\n",
            "Non-trainable params: 0\n",
            "_________________________________________________________________\n"
          ],
          "name": "stdout"
        }
      ]
    },
    {
      "cell_type": "code",
      "metadata": {
        "id": "BB7lL235XgPY",
        "colab_type": "code",
        "colab": {}
      },
      "source": [
        "# Predicting the output response for the test data\n",
        "predicted_output = model.predict(x_test)"
      ],
      "execution_count": 0,
      "outputs": []
    },
    {
      "cell_type": "code",
      "metadata": {
        "id": "15JrYKIzX3sv",
        "colab_type": "code",
        "colab": {
          "base_uri": "https://localhost:8080/",
          "height": 34
        },
        "outputId": "5038f550-6d42-42d4-d283-864dd919515e"
      },
      "source": [
        "# Verifying the shape of response variables\n",
        "predicted_output.shape"
      ],
      "execution_count": 16,
      "outputs": [
        {
          "output_type": "execute_result",
          "data": {
            "text/plain": [
              "(2407, 1)"
            ]
          },
          "metadata": {
            "tags": []
          },
          "execution_count": 16
        }
      ]
    },
    {
      "cell_type": "code",
      "metadata": {
        "id": "-seRVc2lX_z_",
        "colab_type": "code",
        "colab": {
          "base_uri": "https://localhost:8080/",
          "height": 34
        },
        "outputId": "1d3a71cf-3d19-4f00-ac82-64a8de74b870"
      },
      "source": [
        "# To Save model and architecture to single file\n",
        "model.save(\"model.h5\")\n",
        "print(\"Saved model to disk\")"
      ],
      "execution_count": 18,
      "outputs": [
        {
          "output_type": "stream",
          "text": [
            "Saved model to disk\n"
          ],
          "name": "stdout"
        }
      ]
    },
    {
      "cell_type": "code",
      "metadata": {
        "id": "XqD9HbBusbFj",
        "colab_type": "code",
        "colab": {
          "base_uri": "https://localhost:8080/",
          "height": 34
        },
        "outputId": "80aa7503-e224-4e7e-cfd8-874730629f3b"
      },
      "source": [
        "# Verifying the performance of the model on the complete dataset\n",
        "scores = model.evaluate(X, Y, verbose=0)\n",
        "print(\"%s: %.2f%%\" % (model.metrics_names[1], scores[1]*100))\n"
      ],
      "execution_count": 20,
      "outputs": [
        {
          "output_type": "stream",
          "text": [
            "acc: 97.58%\n"
          ],
          "name": "stdout"
        }
      ]
    },
    {
      "cell_type": "code",
      "metadata": {
        "id": "JuihieGf1BV7",
        "colab_type": "code",
        "colab": {}
      },
      "source": [
        ""
      ],
      "execution_count": 0,
      "outputs": []
    }
  ]
}